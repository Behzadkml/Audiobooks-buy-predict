{
 "cells": [
  {
   "cell_type": "code",
   "execution_count": 3,
   "id": "f11ad3c3",
   "metadata": {},
   "outputs": [],
   "source": [
    "import numpy as np\n",
    "import tensorflow as tf\n",
    "from sklearn import preprocessing\n"
   ]
  },
  {
   "cell_type": "code",
   "execution_count": 4,
   "id": "c7f425c1",
   "metadata": {},
   "outputs": [],
   "source": [
    "raw_csv_data= np.loadtxt('33_Audiobooks_data_Without_Headers.csv' , delimiter = ',')"
   ]
  },
  {
   "cell_type": "code",
   "execution_count": 5,
   "id": "6fbf004c",
   "metadata": {},
   "outputs": [
    {
     "data": {
      "text/plain": [
       "array([[9.9400e+02, 1.6200e+03, 1.6200e+03, ..., 5.0000e+00, 9.2000e+01,\n",
       "        0.0000e+00],\n",
       "       [1.1430e+03, 2.1600e+03, 2.1600e+03, ..., 0.0000e+00, 0.0000e+00,\n",
       "        0.0000e+00],\n",
       "       [2.0590e+03, 2.1600e+03, 2.1600e+03, ..., 0.0000e+00, 3.8800e+02,\n",
       "        0.0000e+00],\n",
       "       ...,\n",
       "       [3.1134e+04, 2.1600e+03, 2.1600e+03, ..., 0.0000e+00, 0.0000e+00,\n",
       "        0.0000e+00],\n",
       "       [3.2832e+04, 1.6200e+03, 1.6200e+03, ..., 0.0000e+00, 9.0000e+01,\n",
       "        0.0000e+00],\n",
       "       [2.5100e+02, 1.6740e+03, 3.3480e+03, ..., 0.0000e+00, 0.0000e+00,\n",
       "        1.0000e+00]])"
      ]
     },
     "execution_count": 5,
     "metadata": {},
     "output_type": "execute_result"
    }
   ],
   "source": [
    "raw_csv_data"
   ]
  },
  {
   "cell_type": "code",
   "execution_count": 6,
   "id": "1e7848e3",
   "metadata": {},
   "outputs": [],
   "source": [
    "unscaled_inputs_all = raw_csv_data[:,1:-1]\n",
    "targets_all= raw_csv_data[:,-1]"
   ]
  },
  {
   "cell_type": "code",
   "execution_count": 7,
   "id": "082e32d7",
   "metadata": {},
   "outputs": [
    {
     "name": "stdout",
     "output_type": "stream",
     "text": [
      "2237\n"
     ]
    }
   ],
   "source": [
    "num_one_targets= int(np.sum(targets_all))\n",
    "print(num_one_targets)"
   ]
  },
  {
   "cell_type": "code",
   "execution_count": 8,
   "id": "d85e3f07",
   "metadata": {},
   "outputs": [
    {
     "data": {
      "text/plain": [
       "14084"
      ]
     },
     "execution_count": 8,
     "metadata": {},
     "output_type": "execute_result"
    }
   ],
   "source": [
    "targets_all.shape[0]"
   ]
  },
  {
   "cell_type": "code",
   "execution_count": 9,
   "id": "3ab77a43",
   "metadata": {},
   "outputs": [],
   "source": [
    "zero_targets_counter=0\n",
    "indices_remove=[]\n",
    "for i in range(targets_all.shape[0]):\n",
    "    if targets_all[i]==0:\n",
    "     zero_targets_counter+= 1\n",
    "    if zero_targets_counter > num_one_targets:\n",
    "        indices_remove.append(i)\n",
    "    \n"
   ]
  },
  {
   "cell_type": "code",
   "execution_count": 10,
   "id": "5f51fc73",
   "metadata": {},
   "outputs": [],
   "source": [
    "new_unscaled_inputs_all= np.delete(unscaled_inputs_all , indices_remove , axis=0)\n",
    "new_targets_all= np.delete(targets_all , indices_remove , axis=0)"
   ]
  },
  {
   "cell_type": "code",
   "execution_count": 11,
   "id": "285985da",
   "metadata": {},
   "outputs": [],
   "source": [
    "scaled_inputs_all= preprocessing.scale(new_unscaled_inputs_all)"
   ]
  },
  {
   "cell_type": "code",
   "execution_count": 12,
   "id": "92a1f252",
   "metadata": {},
   "outputs": [
    {
     "data": {
      "text/plain": [
       "2873"
      ]
     },
     "execution_count": 12,
     "metadata": {},
     "output_type": "execute_result"
    }
   ],
   "source": [
    "scaled_inputs_all.shape[0]"
   ]
  },
  {
   "cell_type": "code",
   "execution_count": 13,
   "id": "b4462e13",
   "metadata": {},
   "outputs": [],
   "source": [
    "shuffled_indices= np.arange(scaled_inputs_all.shape[0])\n",
    "np.random.shuffle(shuffled_indices)\n",
    "shuffled_inputs= scaled_inputs_all[shuffled_indices]\n",
    "shuffled_targets= new_targets_all[shuffled_indices]\n"
   ]
  },
  {
   "cell_type": "code",
   "execution_count": 14,
   "id": "933243dc",
   "metadata": {},
   "outputs": [
    {
     "data": {
      "text/plain": [
       "2873"
      ]
     },
     "execution_count": 14,
     "metadata": {},
     "output_type": "execute_result"
    }
   ],
   "source": [
    "sample_count= shuffled_inputs.shape[0]\n",
    "sample_count"
   ]
  },
  {
   "cell_type": "code",
   "execution_count": 15,
   "id": "7d66b63f",
   "metadata": {},
   "outputs": [
    {
     "name": "stdout",
     "output_type": "stream",
     "text": [
      "2298 287 288\n"
     ]
    }
   ],
   "source": [
    "trained_sample_count= int(0.8*sample_count)\n",
    "validation_sample_count= int(0.1*sample_count)\n",
    "test_sample_count= sample_count-trained_sample_count-validation_sample_count\n",
    "print(trained_sample_count,validation_sample_count,test_sample_count)"
   ]
  },
  {
   "cell_type": "code",
   "execution_count": 16,
   "id": "ed0f3050",
   "metadata": {},
   "outputs": [],
   "source": [
    "train_input = shuffled_inputs[:trained_sample_count]\n",
    "train_targets= shuffled_targets[:trained_sample_count]"
   ]
  },
  {
   "cell_type": "code",
   "execution_count": 17,
   "id": "6a24c838",
   "metadata": {},
   "outputs": [],
   "source": [
    "validation_inputs= shuffled_inputs[trained_sample_count: trained_sample_count + validation_sample_count]\n",
    "validation_targets=shuffled_targets[trained_sample_count: trained_sample_count + validation_sample_count]"
   ]
  },
  {
   "cell_type": "code",
   "execution_count": 18,
   "id": "0cb277bf",
   "metadata": {},
   "outputs": [
    {
     "data": {
      "text/plain": [
       "287"
      ]
     },
     "execution_count": 18,
     "metadata": {},
     "output_type": "execute_result"
    }
   ],
   "source": [
    "validation_inputs.shape[0]"
   ]
  },
  {
   "cell_type": "code",
   "execution_count": 19,
   "id": "7839d6e3",
   "metadata": {},
   "outputs": [],
   "source": [
    "test_inputs= shuffled_inputs[trained_sample_count+validation_sample_count:]\n",
    "test_targets= shuffled_targets[trained_sample_count+validation_sample_count:]"
   ]
  },
  {
   "cell_type": "code",
   "execution_count": 20,
   "id": "1be0a750",
   "metadata": {},
   "outputs": [
    {
     "name": "stdout",
     "output_type": "stream",
     "text": [
      "146.4140995094736 2298 0.0637137073583436\n",
      "57.0 287 0.1986062717770035\n",
      "57.0 288 0.19791666666666666\n"
     ]
    }
   ],
   "source": [
    "\n",
    "print(np.sum(train_input), trained_sample_count, np.sum(train_input) / trained_sample_count)\n",
    "\n",
    "print(np.sum(validation_targets), validation_sample_count, np.sum(validation_targets) / validation_sample_count)\n",
    "print(np.sum(test_targets), test_sample_count, np.sum(test_targets) / test_sample_count)"
   ]
  },
  {
   "cell_type": "code",
   "execution_count": 21,
   "id": "2abbaf63",
   "metadata": {},
   "outputs": [],
   "source": [
    "np.savez('Audiobooks_data_train', inputs = train_input, targets = train_targets)\n",
    "\n",
    "np.savez('Audiobooks_data_validation', inputs = validation_inputs, targets = validation_targets)\n",
    "\n",
    "np.savez('Audiobooks_data_test', inputs = test_inputs, targets = test_targets)"
   ]
  },
  {
   "cell_type": "code",
   "execution_count": 22,
   "id": "3a16dcc6",
   "metadata": {},
   "outputs": [],
   "source": [
    "npz = np.load('Audiobooks_data_train.npz')\n",
    "\n",
    "train_inputs = npz['inputs'].astype(float)"
   ]
  },
  {
   "cell_type": "code",
   "execution_count": 23,
   "id": "836b46f4",
   "metadata": {},
   "outputs": [],
   "source": [
    "train_targets= npz['targets'].astype(int)"
   ]
  },
  {
   "cell_type": "code",
   "execution_count": 24,
   "id": "6570bcb7",
   "metadata": {},
   "outputs": [],
   "source": [
    "npz2 = np.load('Audiobooks_data_validation.npz')\n",
    "\n",
    "validation_inputs, validation_targets = npz2['inputs'].astype(float), npz2['targets'].astype(int)"
   ]
  },
  {
   "cell_type": "code",
   "execution_count": 25,
   "id": "dc32c9b6",
   "metadata": {},
   "outputs": [],
   "source": [
    "npz3=np.load('Audiobooks_data_test.npz')\n",
    "test_inputs, test_targets= npz3['inputs']. astype(float) , npz3['targets'].astype(int)"
   ]
  },
  {
   "cell_type": "code",
   "execution_count": 26,
   "id": "a4299310",
   "metadata": {},
   "outputs": [],
   "source": [
    "input_size = 10\n",
    "\n",
    "output_size = 2\n",
    "\n",
    "hidden_layer_size = 50"
   ]
  },
  {
   "cell_type": "code",
   "execution_count": 27,
   "id": "a193eec5",
   "metadata": {},
   "outputs": [],
   "source": [
    "model = tf.keras.Sequential([tf.keras.layers.Dense(hidden_layer_size , activation='relu') , tf.keras.layers.Dense(hidden_layer_size, activation='relu') ,  tf.keras.layers.Dense(output_size , activation='softmax')])\n",
    "                             "
   ]
  },
  {
   "cell_type": "code",
   "execution_count": 34,
   "id": "c4da6b8a",
   "metadata": {},
   "outputs": [],
   "source": [
    "model.compile(optimizer='adam' , loss='sparse_categorical_crossentropy' , metrics=['accuracy'])"
   ]
  },
  {
   "cell_type": "code",
   "execution_count": 35,
   "id": "3923b74c",
   "metadata": {},
   "outputs": [],
   "source": [
    "batch_size = 100\n",
    "max_epochs= 100"
   ]
  },
  {
   "cell_type": "code",
   "execution_count": 36,
   "id": "76738b13",
   "metadata": {},
   "outputs": [
    {
     "name": "stdout",
     "output_type": "stream",
     "text": [
      "Epoch 1/100\n",
      "23/23 - 1s - loss: 0.5800 - accuracy: 0.7267 - val_loss: 0.4883 - val_accuracy: 0.8258 - 1s/epoch - 51ms/step\n",
      "Epoch 2/100\n",
      "23/23 - 0s - loss: 0.4567 - accuracy: 0.8155 - val_loss: 0.4114 - val_accuracy: 0.8397 - 84ms/epoch - 4ms/step\n",
      "Epoch 3/100\n",
      "23/23 - 0s - loss: 0.3985 - accuracy: 0.8442 - val_loss: 0.3671 - val_accuracy: 0.8606 - 65ms/epoch - 3ms/step\n",
      "Epoch 4/100\n",
      "23/23 - 0s - loss: 0.3612 - accuracy: 0.8564 - val_loss: 0.3423 - val_accuracy: 0.8711 - 68ms/epoch - 3ms/step\n",
      "Epoch 5/100\n",
      "23/23 - 0s - loss: 0.3372 - accuracy: 0.8594 - val_loss: 0.3263 - val_accuracy: 0.8711 - 67ms/epoch - 3ms/step\n",
      "Epoch 6/100\n",
      "23/23 - 0s - loss: 0.3226 - accuracy: 0.8634 - val_loss: 0.3184 - val_accuracy: 0.8746 - 66ms/epoch - 3ms/step\n",
      "Epoch 7/100\n",
      "23/23 - 0s - loss: 0.3121 - accuracy: 0.8686 - val_loss: 0.3143 - val_accuracy: 0.8746 - 63ms/epoch - 3ms/step\n",
      "Epoch 8/100\n",
      "23/23 - 0s - loss: 0.3013 - accuracy: 0.8703 - val_loss: 0.3040 - val_accuracy: 0.8780 - 66ms/epoch - 3ms/step\n",
      "Epoch 9/100\n",
      "23/23 - 0s - loss: 0.2990 - accuracy: 0.8699 - val_loss: 0.3002 - val_accuracy: 0.8780 - 66ms/epoch - 3ms/step\n",
      "Epoch 10/100\n",
      "23/23 - 0s - loss: 0.2929 - accuracy: 0.8695 - val_loss: 0.2972 - val_accuracy: 0.8885 - 68ms/epoch - 3ms/step\n",
      "Epoch 11/100\n",
      "23/23 - 0s - loss: 0.2883 - accuracy: 0.8699 - val_loss: 0.2950 - val_accuracy: 0.8850 - 74ms/epoch - 3ms/step\n",
      "Epoch 12/100\n",
      "23/23 - 0s - loss: 0.2838 - accuracy: 0.8768 - val_loss: 0.2946 - val_accuracy: 0.8850 - 76ms/epoch - 3ms/step\n",
      "Epoch 13/100\n",
      "23/23 - 0s - loss: 0.2821 - accuracy: 0.8764 - val_loss: 0.2928 - val_accuracy: 0.8885 - 79ms/epoch - 3ms/step\n",
      "Epoch 14/100\n",
      "23/23 - 0s - loss: 0.2776 - accuracy: 0.8790 - val_loss: 0.2874 - val_accuracy: 0.8850 - 68ms/epoch - 3ms/step\n",
      "Epoch 15/100\n",
      "23/23 - 0s - loss: 0.2762 - accuracy: 0.8751 - val_loss: 0.2849 - val_accuracy: 0.8955 - 67ms/epoch - 3ms/step\n",
      "Epoch 16/100\n",
      "23/23 - 0s - loss: 0.2727 - accuracy: 0.8795 - val_loss: 0.2837 - val_accuracy: 0.8920 - 66ms/epoch - 3ms/step\n",
      "Epoch 17/100\n",
      "23/23 - 0s - loss: 0.2709 - accuracy: 0.8790 - val_loss: 0.2827 - val_accuracy: 0.8920 - 66ms/epoch - 3ms/step\n",
      "Epoch 18/100\n",
      "23/23 - 0s - loss: 0.2705 - accuracy: 0.8764 - val_loss: 0.2838 - val_accuracy: 0.8850 - 65ms/epoch - 3ms/step\n",
      "Epoch 19/100\n",
      "23/23 - 0s - loss: 0.2696 - accuracy: 0.8803 - val_loss: 0.2820 - val_accuracy: 0.8885 - 66ms/epoch - 3ms/step\n",
      "Epoch 20/100\n",
      "23/23 - 0s - loss: 0.2654 - accuracy: 0.8786 - val_loss: 0.2853 - val_accuracy: 0.8885 - 72ms/epoch - 3ms/step\n",
      "Epoch 21/100\n",
      "23/23 - 0s - loss: 0.2674 - accuracy: 0.8768 - val_loss: 0.2815 - val_accuracy: 0.8920 - 69ms/epoch - 3ms/step\n",
      "Epoch 22/100\n",
      "23/23 - 0s - loss: 0.2660 - accuracy: 0.8703 - val_loss: 0.2772 - val_accuracy: 0.8990 - 75ms/epoch - 3ms/step\n",
      "Epoch 23/100\n",
      "23/23 - 0s - loss: 0.2644 - accuracy: 0.8799 - val_loss: 0.2785 - val_accuracy: 0.8920 - 77ms/epoch - 3ms/step\n",
      "Epoch 24/100\n",
      "23/23 - 0s - loss: 0.2616 - accuracy: 0.8816 - val_loss: 0.2812 - val_accuracy: 0.8885 - 78ms/epoch - 3ms/step\n",
      "Epoch 25/100\n",
      "23/23 - 0s - loss: 0.2591 - accuracy: 0.8829 - val_loss: 0.2756 - val_accuracy: 0.8955 - 65ms/epoch - 3ms/step\n",
      "Epoch 26/100\n",
      "23/23 - 0s - loss: 0.2599 - accuracy: 0.8790 - val_loss: 0.2716 - val_accuracy: 0.8955 - 72ms/epoch - 3ms/step\n",
      "Epoch 27/100\n",
      "23/23 - 0s - loss: 0.2594 - accuracy: 0.8812 - val_loss: 0.2721 - val_accuracy: 0.9024 - 67ms/epoch - 3ms/step\n",
      "Epoch 28/100\n",
      "23/23 - 0s - loss: 0.2590 - accuracy: 0.8790 - val_loss: 0.2804 - val_accuracy: 0.8885 - 66ms/epoch - 3ms/step\n",
      "Epoch 29/100\n",
      "23/23 - 0s - loss: 0.2563 - accuracy: 0.8851 - val_loss: 0.2752 - val_accuracy: 0.8990 - 70ms/epoch - 3ms/step\n",
      "Epoch 30/100\n",
      "23/23 - 0s - loss: 0.2559 - accuracy: 0.8838 - val_loss: 0.2764 - val_accuracy: 0.8920 - 64ms/epoch - 3ms/step\n",
      "Epoch 31/100\n",
      "23/23 - 0s - loss: 0.2548 - accuracy: 0.8816 - val_loss: 0.2749 - val_accuracy: 0.9024 - 71ms/epoch - 3ms/step\n",
      "Epoch 32/100\n",
      "23/23 - 0s - loss: 0.2531 - accuracy: 0.8838 - val_loss: 0.2714 - val_accuracy: 0.8955 - 76ms/epoch - 3ms/step\n",
      "Epoch 33/100\n",
      "23/23 - 0s - loss: 0.2542 - accuracy: 0.8851 - val_loss: 0.2761 - val_accuracy: 0.9024 - 81ms/epoch - 4ms/step\n",
      "Epoch 34/100\n",
      "23/23 - 0s - loss: 0.2526 - accuracy: 0.8829 - val_loss: 0.2728 - val_accuracy: 0.8990 - 81ms/epoch - 4ms/step\n",
      "Epoch 35/100\n",
      "23/23 - 0s - loss: 0.2549 - accuracy: 0.8808 - val_loss: 0.2772 - val_accuracy: 0.8746 - 67ms/epoch - 3ms/step\n",
      "Epoch 36/100\n",
      "23/23 - 0s - loss: 0.2547 - accuracy: 0.8816 - val_loss: 0.2788 - val_accuracy: 0.8815 - 72ms/epoch - 3ms/step\n",
      "Epoch 37/100\n",
      "23/23 - 0s - loss: 0.2527 - accuracy: 0.8838 - val_loss: 0.2778 - val_accuracy: 0.8920 - 72ms/epoch - 3ms/step\n",
      "Epoch 38/100\n",
      "23/23 - 0s - loss: 0.2523 - accuracy: 0.8821 - val_loss: 0.2708 - val_accuracy: 0.9024 - 65ms/epoch - 3ms/step\n",
      "Epoch 39/100\n",
      "23/23 - 0s - loss: 0.2494 - accuracy: 0.8895 - val_loss: 0.2804 - val_accuracy: 0.8815 - 67ms/epoch - 3ms/step\n",
      "Epoch 40/100\n",
      "23/23 - 0s - loss: 0.2486 - accuracy: 0.8825 - val_loss: 0.2708 - val_accuracy: 0.8990 - 68ms/epoch - 3ms/step\n",
      "Epoch 41/100\n",
      "23/23 - 0s - loss: 0.2487 - accuracy: 0.8851 - val_loss: 0.2749 - val_accuracy: 0.8850 - 71ms/epoch - 3ms/step\n",
      "Epoch 42/100\n",
      "23/23 - 0s - loss: 0.2501 - accuracy: 0.8851 - val_loss: 0.2801 - val_accuracy: 0.8850 - 66ms/epoch - 3ms/step\n",
      "Epoch 43/100\n",
      "23/23 - 0s - loss: 0.2462 - accuracy: 0.8851 - val_loss: 0.2745 - val_accuracy: 0.8920 - 65ms/epoch - 3ms/step\n",
      "Epoch 44/100\n",
      "23/23 - 0s - loss: 0.2468 - accuracy: 0.8851 - val_loss: 0.2687 - val_accuracy: 0.9024 - 67ms/epoch - 3ms/step\n",
      "Epoch 45/100\n",
      "23/23 - 0s - loss: 0.2476 - accuracy: 0.8886 - val_loss: 0.2758 - val_accuracy: 0.8920 - 80ms/epoch - 3ms/step\n",
      "Epoch 46/100\n",
      "23/23 - 0s - loss: 0.2463 - accuracy: 0.8899 - val_loss: 0.2691 - val_accuracy: 0.8920 - 77ms/epoch - 3ms/step\n",
      "Epoch 47/100\n",
      "23/23 - 0s - loss: 0.2489 - accuracy: 0.8838 - val_loss: 0.2737 - val_accuracy: 0.9059 - 68ms/epoch - 3ms/step\n",
      "Epoch 48/100\n",
      "23/23 - 0s - loss: 0.2507 - accuracy: 0.8834 - val_loss: 0.2721 - val_accuracy: 0.8990 - 64ms/epoch - 3ms/step\n",
      "Epoch 49/100\n",
      "23/23 - 0s - loss: 0.2484 - accuracy: 0.8860 - val_loss: 0.2705 - val_accuracy: 0.9024 - 70ms/epoch - 3ms/step\n",
      "Epoch 50/100\n",
      "23/23 - 0s - loss: 0.2446 - accuracy: 0.8886 - val_loss: 0.2698 - val_accuracy: 0.8955 - 62ms/epoch - 3ms/step\n",
      "Epoch 51/100\n",
      "23/23 - 0s - loss: 0.2438 - accuracy: 0.8886 - val_loss: 0.2774 - val_accuracy: 0.8885 - 65ms/epoch - 3ms/step\n",
      "Epoch 52/100\n",
      "23/23 - 0s - loss: 0.2455 - accuracy: 0.8882 - val_loss: 0.2724 - val_accuracy: 0.8990 - 80ms/epoch - 3ms/step\n",
      "Epoch 53/100\n",
      "23/23 - 0s - loss: 0.2475 - accuracy: 0.8869 - val_loss: 0.2688 - val_accuracy: 0.8990 - 69ms/epoch - 3ms/step\n",
      "Epoch 54/100\n",
      "23/23 - 0s - loss: 0.2512 - accuracy: 0.8838 - val_loss: 0.2872 - val_accuracy: 0.8955 - 74ms/epoch - 3ms/step\n",
      "Epoch 55/100\n",
      "23/23 - 0s - loss: 0.2447 - accuracy: 0.8834 - val_loss: 0.2704 - val_accuracy: 0.8990 - 68ms/epoch - 3ms/step\n",
      "Epoch 56/100\n",
      "23/23 - 0s - loss: 0.2430 - accuracy: 0.8921 - val_loss: 0.2760 - val_accuracy: 0.8920 - 68ms/epoch - 3ms/step\n",
      "Epoch 57/100\n",
      "23/23 - 0s - loss: 0.2430 - accuracy: 0.8873 - val_loss: 0.2711 - val_accuracy: 0.8990 - 66ms/epoch - 3ms/step\n",
      "Epoch 58/100\n",
      "23/23 - 0s - loss: 0.2442 - accuracy: 0.8873 - val_loss: 0.2679 - val_accuracy: 0.9024 - 73ms/epoch - 3ms/step\n",
      "Epoch 59/100\n",
      "23/23 - 0s - loss: 0.2441 - accuracy: 0.8908 - val_loss: 0.2725 - val_accuracy: 0.8920 - 65ms/epoch - 3ms/step\n",
      "Epoch 60/100\n",
      "23/23 - 0s - loss: 0.2438 - accuracy: 0.8856 - val_loss: 0.2925 - val_accuracy: 0.8711 - 66ms/epoch - 3ms/step\n",
      "Epoch 61/100\n",
      "23/23 - 0s - loss: 0.2413 - accuracy: 0.8860 - val_loss: 0.2704 - val_accuracy: 0.8990 - 66ms/epoch - 3ms/step\n",
      "Epoch 62/100\n",
      "23/23 - 0s - loss: 0.2453 - accuracy: 0.8912 - val_loss: 0.2712 - val_accuracy: 0.8990 - 67ms/epoch - 3ms/step\n",
      "Epoch 63/100\n",
      "23/23 - 0s - loss: 0.2438 - accuracy: 0.8895 - val_loss: 0.2781 - val_accuracy: 0.8920 - 71ms/epoch - 3ms/step\n",
      "Epoch 64/100\n",
      "23/23 - 0s - loss: 0.2461 - accuracy: 0.8895 - val_loss: 0.2701 - val_accuracy: 0.8990 - 79ms/epoch - 3ms/step\n",
      "Epoch 65/100\n",
      "23/23 - 0s - loss: 0.2419 - accuracy: 0.8877 - val_loss: 0.2874 - val_accuracy: 0.8641 - 75ms/epoch - 3ms/step\n",
      "Epoch 66/100\n",
      "23/23 - 0s - loss: 0.2426 - accuracy: 0.8886 - val_loss: 0.2721 - val_accuracy: 0.9024 - 71ms/epoch - 3ms/step\n",
      "Epoch 67/100\n",
      "23/23 - 0s - loss: 0.2502 - accuracy: 0.8842 - val_loss: 0.2715 - val_accuracy: 0.8920 - 66ms/epoch - 3ms/step\n"
     ]
    },
    {
     "name": "stdout",
     "output_type": "stream",
     "text": [
      "Epoch 68/100\n",
      "23/23 - 0s - loss: 0.2411 - accuracy: 0.8899 - val_loss: 0.2739 - val_accuracy: 0.8920 - 69ms/epoch - 3ms/step\n",
      "Epoch 69/100\n",
      "23/23 - 0s - loss: 0.2451 - accuracy: 0.8869 - val_loss: 0.2918 - val_accuracy: 0.8641 - 65ms/epoch - 3ms/step\n",
      "Epoch 70/100\n",
      "23/23 - 0s - loss: 0.2424 - accuracy: 0.8860 - val_loss: 0.2768 - val_accuracy: 0.8920 - 70ms/epoch - 3ms/step\n",
      "Epoch 71/100\n",
      "23/23 - 0s - loss: 0.2398 - accuracy: 0.8895 - val_loss: 0.2723 - val_accuracy: 0.8955 - 74ms/epoch - 3ms/step\n",
      "Epoch 72/100\n",
      "23/23 - 0s - loss: 0.2395 - accuracy: 0.8947 - val_loss: 0.2721 - val_accuracy: 0.8955 - 74ms/epoch - 3ms/step\n",
      "Epoch 73/100\n",
      "23/23 - 0s - loss: 0.2428 - accuracy: 0.8899 - val_loss: 0.2730 - val_accuracy: 0.8955 - 63ms/epoch - 3ms/step\n",
      "Epoch 74/100\n",
      "23/23 - 0s - loss: 0.2382 - accuracy: 0.8908 - val_loss: 0.2817 - val_accuracy: 0.8711 - 62ms/epoch - 3ms/step\n",
      "Epoch 75/100\n",
      "23/23 - 0s - loss: 0.2405 - accuracy: 0.8873 - val_loss: 0.2759 - val_accuracy: 0.8920 - 63ms/epoch - 3ms/step\n",
      "Epoch 76/100\n",
      "23/23 - 0s - loss: 0.2416 - accuracy: 0.8899 - val_loss: 0.2781 - val_accuracy: 0.8815 - 74ms/epoch - 3ms/step\n",
      "Epoch 77/100\n",
      "23/23 - 0s - loss: 0.2402 - accuracy: 0.8899 - val_loss: 0.2731 - val_accuracy: 0.8920 - 77ms/epoch - 3ms/step\n",
      "Epoch 78/100\n",
      "23/23 - 0s - loss: 0.2387 - accuracy: 0.8916 - val_loss: 0.2764 - val_accuracy: 0.8815 - 70ms/epoch - 3ms/step\n",
      "Epoch 79/100\n",
      "23/23 - 0s - loss: 0.2386 - accuracy: 0.8912 - val_loss: 0.2702 - val_accuracy: 0.8955 - 68ms/epoch - 3ms/step\n",
      "Epoch 80/100\n",
      "23/23 - 0s - loss: 0.2406 - accuracy: 0.8851 - val_loss: 0.2719 - val_accuracy: 0.9024 - 67ms/epoch - 3ms/step\n",
      "Epoch 81/100\n",
      "23/23 - 0s - loss: 0.2416 - accuracy: 0.8903 - val_loss: 0.2726 - val_accuracy: 0.8990 - 68ms/epoch - 3ms/step\n",
      "Epoch 82/100\n",
      "23/23 - 0s - loss: 0.2398 - accuracy: 0.8908 - val_loss: 0.2713 - val_accuracy: 0.9059 - 72ms/epoch - 3ms/step\n",
      "Epoch 83/100\n",
      "23/23 - 0s - loss: 0.2393 - accuracy: 0.8899 - val_loss: 0.2701 - val_accuracy: 0.8955 - 77ms/epoch - 3ms/step\n",
      "Epoch 84/100\n",
      "23/23 - 0s - loss: 0.2381 - accuracy: 0.8886 - val_loss: 0.2782 - val_accuracy: 0.8850 - 72ms/epoch - 3ms/step\n",
      "Epoch 85/100\n",
      "23/23 - 0s - loss: 0.2393 - accuracy: 0.8851 - val_loss: 0.2816 - val_accuracy: 0.8850 - 74ms/epoch - 3ms/step\n",
      "Epoch 86/100\n",
      "23/23 - 0s - loss: 0.2393 - accuracy: 0.8903 - val_loss: 0.2782 - val_accuracy: 0.8711 - 70ms/epoch - 3ms/step\n",
      "Epoch 87/100\n",
      "23/23 - 0s - loss: 0.2374 - accuracy: 0.8912 - val_loss: 0.2752 - val_accuracy: 0.8955 - 64ms/epoch - 3ms/step\n",
      "Epoch 88/100\n",
      "23/23 - 0s - loss: 0.2369 - accuracy: 0.8925 - val_loss: 0.2780 - val_accuracy: 0.8920 - 66ms/epoch - 3ms/step\n",
      "Epoch 89/100\n",
      "23/23 - 0s - loss: 0.2372 - accuracy: 0.8912 - val_loss: 0.2788 - val_accuracy: 0.8815 - 69ms/epoch - 3ms/step\n",
      "Epoch 90/100\n",
      "23/23 - 0s - loss: 0.2383 - accuracy: 0.8951 - val_loss: 0.2766 - val_accuracy: 0.8885 - 68ms/epoch - 3ms/step\n",
      "Epoch 91/100\n",
      "23/23 - 0s - loss: 0.2369 - accuracy: 0.8899 - val_loss: 0.2700 - val_accuracy: 0.9059 - 66ms/epoch - 3ms/step\n",
      "Epoch 92/100\n",
      "23/23 - 0s - loss: 0.2387 - accuracy: 0.8882 - val_loss: 0.2782 - val_accuracy: 0.9024 - 70ms/epoch - 3ms/step\n",
      "Epoch 93/100\n",
      "23/23 - 0s - loss: 0.2356 - accuracy: 0.8895 - val_loss: 0.2754 - val_accuracy: 0.8990 - 64ms/epoch - 3ms/step\n",
      "Epoch 94/100\n",
      "23/23 - 0s - loss: 0.2363 - accuracy: 0.8903 - val_loss: 0.2779 - val_accuracy: 0.8780 - 64ms/epoch - 3ms/step\n",
      "Epoch 95/100\n",
      "23/23 - 0s - loss: 0.2352 - accuracy: 0.8882 - val_loss: 0.2831 - val_accuracy: 0.8850 - 66ms/epoch - 3ms/step\n",
      "Epoch 96/100\n",
      "23/23 - 0s - loss: 0.2378 - accuracy: 0.8916 - val_loss: 0.2734 - val_accuracy: 0.8990 - 64ms/epoch - 3ms/step\n",
      "Epoch 97/100\n",
      "23/23 - 0s - loss: 0.2360 - accuracy: 0.8925 - val_loss: 0.2728 - val_accuracy: 0.8990 - 67ms/epoch - 3ms/step\n",
      "Epoch 98/100\n",
      "23/23 - 0s - loss: 0.2413 - accuracy: 0.8847 - val_loss: 0.2782 - val_accuracy: 0.8920 - 64ms/epoch - 3ms/step\n",
      "Epoch 99/100\n",
      "23/23 - 0s - loss: 0.2399 - accuracy: 0.8899 - val_loss: 0.2786 - val_accuracy: 0.8920 - 73ms/epoch - 3ms/step\n",
      "Epoch 100/100\n",
      "23/23 - 0s - loss: 0.2414 - accuracy: 0.8908 - val_loss: 0.2742 - val_accuracy: 0.8955 - 71ms/epoch - 3ms/step\n"
     ]
    },
    {
     "data": {
      "text/plain": [
       "<keras.callbacks.History at 0x16deadcdc30>"
      ]
     },
     "execution_count": 36,
     "metadata": {},
     "output_type": "execute_result"
    }
   ],
   "source": [
    "model.fit(train_inputs , train_targets ,batch_size= batch_size , epochs=max_epochs ,validation_data=(validation_inputs, validation_targets ), verbose=2)"
   ]
  },
  {
   "cell_type": "code",
   "execution_count": 37,
   "id": "25b46ee2",
   "metadata": {},
   "outputs": [],
   "source": [
    "early_stopping = tf.keras.callbacks.EarlyStopping()"
   ]
  },
  {
   "cell_type": "code",
   "execution_count": 38,
   "id": "10c2255e",
   "metadata": {},
   "outputs": [
    {
     "name": "stdout",
     "output_type": "stream",
     "text": [
      "Epoch 1/100\n",
      "23/23 - 0s - loss: 0.2424 - accuracy: 0.8847 - val_loss: 0.2679 - val_accuracy: 0.9024 - 118ms/epoch - 5ms/step\n",
      "Epoch 2/100\n",
      "23/23 - 0s - loss: 0.2389 - accuracy: 0.8908 - val_loss: 0.2830 - val_accuracy: 0.8746 - 72ms/epoch - 3ms/step\n"
     ]
    },
    {
     "data": {
      "text/plain": [
       "<keras.callbacks.History at 0x16dec231570>"
      ]
     },
     "execution_count": 38,
     "metadata": {},
     "output_type": "execute_result"
    }
   ],
   "source": [
    "model.fit(train_inputs,\n",
    "          \n",
    "          train_targets, \n",
    "          \n",
    "          batch_size=batch_size, \n",
    "          \n",
    "          epochs=max_epochs,\n",
    "          \n",
    "          callbacks=[early_stopping], \n",
    "          \n",
    "          validation_data=(validation_inputs, validation_targets),\n",
    "          \n",
    "          verbose = 2 \n",
    "          )  "
   ]
  },
  {
   "cell_type": "code",
   "execution_count": 39,
   "id": "0634212f",
   "metadata": {},
   "outputs": [
    {
     "name": "stdout",
     "output_type": "stream",
     "text": [
      "Epoch 1/100\n",
      "23/23 - 0s - loss: 0.2354 - accuracy: 0.8912 - val_loss: 0.2844 - val_accuracy: 0.8815 - 121ms/epoch - 5ms/step\n",
      "Epoch 2/100\n",
      "23/23 - 0s - loss: 0.2373 - accuracy: 0.8943 - val_loss: 0.2774 - val_accuracy: 0.8815 - 69ms/epoch - 3ms/step\n",
      "Epoch 3/100\n",
      "23/23 - 0s - loss: 0.2360 - accuracy: 0.8890 - val_loss: 0.2847 - val_accuracy: 0.8711 - 70ms/epoch - 3ms/step\n",
      "Epoch 4/100\n",
      "23/23 - 0s - loss: 0.2355 - accuracy: 0.8921 - val_loss: 0.2804 - val_accuracy: 0.8850 - 65ms/epoch - 3ms/step\n",
      "Epoch 5/100\n",
      "23/23 - 0s - loss: 0.2360 - accuracy: 0.8903 - val_loss: 0.2811 - val_accuracy: 0.8850 - 70ms/epoch - 3ms/step\n",
      "Epoch 6/100\n",
      "23/23 - 0s - loss: 0.2349 - accuracy: 0.8925 - val_loss: 0.2778 - val_accuracy: 0.8955 - 73ms/epoch - 3ms/step\n"
     ]
    },
    {
     "data": {
      "text/plain": [
       "<keras.callbacks.History at 0x16dec296b60>"
      ]
     },
     "execution_count": 39,
     "metadata": {},
     "output_type": "execute_result"
    }
   ],
   "source": [
    "early_stopping = tf.keras.callbacks.EarlyStopping(patience = 4)\n",
    "\n",
    "\n",
    "model.fit(train_inputs,\n",
    "          train_targets, \n",
    "          \n",
    "          batch_size = batch_size, \n",
    "          \n",
    "          epochs = max_epochs,\n",
    "          \n",
    "          callbacks = [early_stopping], \n",
    "          \n",
    "          validation_data = (validation_inputs, validation_targets),\n",
    "          \n",
    "          verbose = 2 \n",
    "          )  "
   ]
  },
  {
   "cell_type": "code",
   "execution_count": 40,
   "id": "9e206404",
   "metadata": {},
   "outputs": [
    {
     "name": "stdout",
     "output_type": "stream",
     "text": [
      "9/9 [==============================] - 0s 2ms/step - loss: 0.2661 - accuracy: 0.8924\n"
     ]
    }
   ],
   "source": [
    "test_loss, test_accuracy = model.evaluate(test_inputs, test_targets)"
   ]
  },
  {
   "cell_type": "code",
   "execution_count": 41,
   "id": "ea85c48c",
   "metadata": {},
   "outputs": [
    {
     "name": "stdout",
     "output_type": "stream",
     "text": [
      "Test loss: 0.27. Test accuracy: 89.24%\n"
     ]
    }
   ],
   "source": [
    "print('Test loss: {0:.2f}. Test accuracy: {1:.2f}%'.format(test_loss, test_accuracy*100.))"
   ]
  },
  {
   "cell_type": "code",
   "execution_count": null,
   "id": "d8d4fe8c",
   "metadata": {},
   "outputs": [],
   "source": []
  }
 ],
 "metadata": {
  "kernelspec": {
   "display_name": "TF",
   "language": "python",
   "name": "tf"
  },
  "language_info": {
   "codemirror_mode": {
    "name": "ipython",
    "version": 3
   },
   "file_extension": ".py",
   "mimetype": "text/x-python",
   "name": "python",
   "nbconvert_exporter": "python",
   "pygments_lexer": "ipython3",
   "version": "3.10.12"
  }
 },
 "nbformat": 4,
 "nbformat_minor": 5
}
